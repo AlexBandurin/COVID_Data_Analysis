{
 "cells": [
  {
   "cell_type": "markdown",
   "id": "ce04cf1a",
   "metadata": {},
   "source": [
    "### Exploring some covid data uploaded to a db file using SQLite within Python. \n",
    "\n",
    "[Data source](https://ourworldindata.org/covid-deaths)"
   ]
  },
  {
   "cell_type": "code",
   "execution_count": 35,
   "id": "cadef2a3",
   "metadata": {},
   "outputs": [],
   "source": [
    "import sqlite3, csv\n",
    "import pandas as pd\n",
    "import numpy as np\n",
    "import matplotlib.pyplot as plt\n",
    "import seaborn as sns\n",
    "import random "
   ]
  },
  {
   "cell_type": "code",
   "execution_count": 31,
   "id": "c194c2f2",
   "metadata": {},
   "outputs": [],
   "source": [
    "pd.set_option('display.max_columns', None)"
   ]
  },
  {
   "cell_type": "code",
   "execution_count": 36,
   "id": "2f730e39",
   "metadata": {},
   "outputs": [],
   "source": [
    "conn = sqlite3.connect(\"covid_data.db\")\n",
    "cur = conn.cursor()\n",
    "covid_df = pd.read_csv(\"//Users/alex/Downloads/owid-covid-data.csv\")"
   ]
  },
  {
   "cell_type": "code",
   "execution_count": 6,
   "id": "4c07beaf",
   "metadata": {},
   "outputs": [
    {
     "name": "stdout",
     "output_type": "stream",
     "text": [
      "<class 'pandas.core.frame.DataFrame'>\n",
      "RangeIndex: 254400 entries, 0 to 254399\n",
      "Columns: 67 entries, iso_code to excess_mortality_cumulative_per_million\n",
      "dtypes: float64(62), object(5)\n",
      "memory usage: 130.0+ MB\n"
     ]
    }
   ],
   "source": [
    "covid_df.info(verbose = False)"
   ]
  },
  {
   "cell_type": "code",
   "execution_count": 37,
   "id": "742a46f4",
   "metadata": {},
   "outputs": [],
   "source": [
    "covid_deaths = pd.concat([covid_df.iloc[:,:25], covid_df.iloc[:,62].to_frame()], axis = 1)"
   ]
  },
  {
   "cell_type": "code",
   "execution_count": 38,
   "id": "3cfd0ae2",
   "metadata": {},
   "outputs": [],
   "source": [
    "covid_vaccinations = covid_df.drop(covid_df.columns[4:25], axis = 1)"
   ]
  },
  {
   "cell_type": "code",
   "execution_count": 18,
   "id": "1121fb6f",
   "metadata": {},
   "outputs": [
    {
     "data": {
      "text/html": [
       "<div>\n",
       "<style scoped>\n",
       "    .dataframe tbody tr th:only-of-type {\n",
       "        vertical-align: middle;\n",
       "    }\n",
       "\n",
       "    .dataframe tbody tr th {\n",
       "        vertical-align: top;\n",
       "    }\n",
       "\n",
       "    .dataframe thead th {\n",
       "        text-align: right;\n",
       "    }\n",
       "</style>\n",
       "<table border=\"1\" class=\"dataframe\">\n",
       "  <thead>\n",
       "    <tr style=\"text-align: right;\">\n",
       "      <th></th>\n",
       "      <th>iso_code</th>\n",
       "      <th>continent</th>\n",
       "      <th>location</th>\n",
       "      <th>date</th>\n",
       "      <th>total_cases</th>\n",
       "      <th>new_cases</th>\n",
       "      <th>new_cases_smoothed</th>\n",
       "      <th>total_deaths</th>\n",
       "      <th>new_deaths</th>\n",
       "      <th>new_deaths_smoothed</th>\n",
       "      <th>total_cases_per_million</th>\n",
       "      <th>new_cases_per_million</th>\n",
       "      <th>new_cases_smoothed_per_million</th>\n",
       "      <th>total_deaths_per_million</th>\n",
       "      <th>new_deaths_per_million</th>\n",
       "      <th>new_deaths_smoothed_per_million</th>\n",
       "      <th>reproduction_rate</th>\n",
       "      <th>icu_patients</th>\n",
       "      <th>icu_patients_per_million</th>\n",
       "      <th>hosp_patients</th>\n",
       "      <th>hosp_patients_per_million</th>\n",
       "      <th>weekly_icu_admissions</th>\n",
       "      <th>weekly_icu_admissions_per_million</th>\n",
       "      <th>weekly_hosp_admissions</th>\n",
       "      <th>weekly_hosp_admissions_per_million</th>\n",
       "      <th>population</th>\n",
       "    </tr>\n",
       "  </thead>\n",
       "  <tbody>\n",
       "    <tr>\n",
       "      <th>21513</th>\n",
       "      <td>BEL</td>\n",
       "      <td>Europe</td>\n",
       "      <td>Belgium</td>\n",
       "      <td>2020-03-30</td>\n",
       "      <td>11899.0</td>\n",
       "      <td>1063.0</td>\n",
       "      <td>1165.143</td>\n",
       "      <td>513.0</td>\n",
       "      <td>82.0</td>\n",
       "      <td>60.714</td>\n",
       "      <td>1020.854</td>\n",
       "      <td>91.198</td>\n",
       "      <td>99.961</td>\n",
       "      <td>44.012</td>\n",
       "      <td>7.035</td>\n",
       "      <td>5.209</td>\n",
       "      <td>1.76</td>\n",
       "      <td>1021.0</td>\n",
       "      <td>87.595</td>\n",
       "      <td>4897.0</td>\n",
       "      <td>420.13</td>\n",
       "      <td>NaN</td>\n",
       "      <td>NaN</td>\n",
       "      <td>3717.0</td>\n",
       "      <td>318.894</td>\n",
       "      <td>11655923.0</td>\n",
       "    </tr>\n",
       "    <tr>\n",
       "      <th>123554</th>\n",
       "      <td>LAO</td>\n",
       "      <td>Asia</td>\n",
       "      <td>Laos</td>\n",
       "      <td>2021-09-21</td>\n",
       "      <td>19730.0</td>\n",
       "      <td>331.0</td>\n",
       "      <td>292.571</td>\n",
       "      <td>16.0</td>\n",
       "      <td>0.0</td>\n",
       "      <td>0.000</td>\n",
       "      <td>2620.368</td>\n",
       "      <td>43.961</td>\n",
       "      <td>38.857</td>\n",
       "      <td>2.125</td>\n",
       "      <td>0.000</td>\n",
       "      <td>0.000</td>\n",
       "      <td>1.31</td>\n",
       "      <td>NaN</td>\n",
       "      <td>NaN</td>\n",
       "      <td>NaN</td>\n",
       "      <td>NaN</td>\n",
       "      <td>NaN</td>\n",
       "      <td>NaN</td>\n",
       "      <td>NaN</td>\n",
       "      <td>NaN</td>\n",
       "      <td>7529477.0</td>\n",
       "    </tr>\n",
       "    <tr>\n",
       "      <th>227689</th>\n",
       "      <td>TGO</td>\n",
       "      <td>Africa</td>\n",
       "      <td>Togo</td>\n",
       "      <td>2021-12-17</td>\n",
       "      <td>26550.0</td>\n",
       "      <td>84.0</td>\n",
       "      <td>25.429</td>\n",
       "      <td>244.0</td>\n",
       "      <td>0.0</td>\n",
       "      <td>0.143</td>\n",
       "      <td>3000.441</td>\n",
       "      <td>9.493</td>\n",
       "      <td>2.874</td>\n",
       "      <td>27.575</td>\n",
       "      <td>0.000</td>\n",
       "      <td>0.016</td>\n",
       "      <td>1.94</td>\n",
       "      <td>NaN</td>\n",
       "      <td>NaN</td>\n",
       "      <td>NaN</td>\n",
       "      <td>NaN</td>\n",
       "      <td>NaN</td>\n",
       "      <td>NaN</td>\n",
       "      <td>NaN</td>\n",
       "      <td>NaN</td>\n",
       "      <td>8848700.0</td>\n",
       "    </tr>\n",
       "  </tbody>\n",
       "</table>\n",
       "</div>"
      ],
      "text/plain": [
       "       iso_code continent location        date  total_cases  new_cases  \\\n",
       "21513       BEL    Europe  Belgium  2020-03-30      11899.0     1063.0   \n",
       "123554      LAO      Asia     Laos  2021-09-21      19730.0      331.0   \n",
       "227689      TGO    Africa     Togo  2021-12-17      26550.0       84.0   \n",
       "\n",
       "        new_cases_smoothed  total_deaths  new_deaths  new_deaths_smoothed  \\\n",
       "21513             1165.143         513.0        82.0               60.714   \n",
       "123554             292.571          16.0         0.0                0.000   \n",
       "227689              25.429         244.0         0.0                0.143   \n",
       "\n",
       "        total_cases_per_million  new_cases_per_million  \\\n",
       "21513                  1020.854                 91.198   \n",
       "123554                 2620.368                 43.961   \n",
       "227689                 3000.441                  9.493   \n",
       "\n",
       "        new_cases_smoothed_per_million  total_deaths_per_million  \\\n",
       "21513                           99.961                    44.012   \n",
       "123554                          38.857                     2.125   \n",
       "227689                           2.874                    27.575   \n",
       "\n",
       "        new_deaths_per_million  new_deaths_smoothed_per_million  \\\n",
       "21513                    7.035                            5.209   \n",
       "123554                   0.000                            0.000   \n",
       "227689                   0.000                            0.016   \n",
       "\n",
       "        reproduction_rate  icu_patients  icu_patients_per_million  \\\n",
       "21513                1.76        1021.0                    87.595   \n",
       "123554               1.31           NaN                       NaN   \n",
       "227689               1.94           NaN                       NaN   \n",
       "\n",
       "        hosp_patients  hosp_patients_per_million  weekly_icu_admissions  \\\n",
       "21513          4897.0                     420.13                    NaN   \n",
       "123554            NaN                        NaN                    NaN   \n",
       "227689            NaN                        NaN                    NaN   \n",
       "\n",
       "        weekly_icu_admissions_per_million  weekly_hosp_admissions  \\\n",
       "21513                                 NaN                  3717.0   \n",
       "123554                                NaN                     NaN   \n",
       "227689                                NaN                     NaN   \n",
       "\n",
       "        weekly_hosp_admissions_per_million  population  \n",
       "21513                              318.894  11655923.0  \n",
       "123554                                 NaN   7529477.0  \n",
       "227689                                 NaN   8848700.0  "
      ]
     },
     "execution_count": 18,
     "metadata": {},
     "output_type": "execute_result"
    }
   ],
   "source": [
    "covid_deaths.sample(3)"
   ]
  },
  {
   "cell_type": "code",
   "execution_count": 19,
   "id": "8b302a10",
   "metadata": {},
   "outputs": [
    {
     "data": {
      "text/html": [
       "<div>\n",
       "<style scoped>\n",
       "    .dataframe tbody tr th:only-of-type {\n",
       "        vertical-align: middle;\n",
       "    }\n",
       "\n",
       "    .dataframe tbody tr th {\n",
       "        vertical-align: top;\n",
       "    }\n",
       "\n",
       "    .dataframe thead th {\n",
       "        text-align: right;\n",
       "    }\n",
       "</style>\n",
       "<table border=\"1\" class=\"dataframe\">\n",
       "  <thead>\n",
       "    <tr style=\"text-align: right;\">\n",
       "      <th></th>\n",
       "      <th>iso_code</th>\n",
       "      <th>continent</th>\n",
       "      <th>location</th>\n",
       "      <th>date</th>\n",
       "      <th>total_tests</th>\n",
       "      <th>new_tests</th>\n",
       "      <th>total_tests_per_thousand</th>\n",
       "      <th>new_tests_per_thousand</th>\n",
       "      <th>new_tests_smoothed</th>\n",
       "      <th>new_tests_smoothed_per_thousand</th>\n",
       "      <th>positive_rate</th>\n",
       "      <th>tests_per_case</th>\n",
       "      <th>tests_units</th>\n",
       "      <th>total_vaccinations</th>\n",
       "      <th>people_vaccinated</th>\n",
       "      <th>people_fully_vaccinated</th>\n",
       "      <th>total_boosters</th>\n",
       "      <th>new_vaccinations</th>\n",
       "      <th>new_vaccinations_smoothed</th>\n",
       "      <th>total_vaccinations_per_hundred</th>\n",
       "      <th>people_vaccinated_per_hundred</th>\n",
       "      <th>people_fully_vaccinated_per_hundred</th>\n",
       "      <th>total_boosters_per_hundred</th>\n",
       "      <th>new_vaccinations_smoothed_per_million</th>\n",
       "      <th>new_people_vaccinated_smoothed</th>\n",
       "      <th>new_people_vaccinated_smoothed_per_hundred</th>\n",
       "      <th>stringency_index</th>\n",
       "      <th>population_density</th>\n",
       "      <th>median_age</th>\n",
       "      <th>aged_65_older</th>\n",
       "      <th>aged_70_older</th>\n",
       "      <th>gdp_per_capita</th>\n",
       "      <th>extreme_poverty</th>\n",
       "      <th>cardiovasc_death_rate</th>\n",
       "      <th>diabetes_prevalence</th>\n",
       "      <th>female_smokers</th>\n",
       "      <th>male_smokers</th>\n",
       "      <th>handwashing_facilities</th>\n",
       "      <th>hospital_beds_per_thousand</th>\n",
       "      <th>life_expectancy</th>\n",
       "      <th>human_development_index</th>\n",
       "      <th>population</th>\n",
       "      <th>excess_mortality_cumulative_absolute</th>\n",
       "      <th>excess_mortality_cumulative</th>\n",
       "      <th>excess_mortality</th>\n",
       "      <th>excess_mortality_cumulative_per_million</th>\n",
       "    </tr>\n",
       "  </thead>\n",
       "  <tbody>\n",
       "    <tr>\n",
       "      <th>133742</th>\n",
       "      <td>LUX</td>\n",
       "      <td>Europe</td>\n",
       "      <td>Luxembourg</td>\n",
       "      <td>2020-07-03</td>\n",
       "      <td>222851.0</td>\n",
       "      <td>10512.0</td>\n",
       "      <td>348.575</td>\n",
       "      <td>16.442</td>\n",
       "      <td>7790.0</td>\n",
       "      <td>12.185</td>\n",
       "      <td>0.004</td>\n",
       "      <td>250.0</td>\n",
       "      <td>tests performed</td>\n",
       "      <td>NaN</td>\n",
       "      <td>NaN</td>\n",
       "      <td>NaN</td>\n",
       "      <td>NaN</td>\n",
       "      <td>NaN</td>\n",
       "      <td>NaN</td>\n",
       "      <td>NaN</td>\n",
       "      <td>NaN</td>\n",
       "      <td>NaN</td>\n",
       "      <td>NaN</td>\n",
       "      <td>NaN</td>\n",
       "      <td>NaN</td>\n",
       "      <td>NaN</td>\n",
       "      <td>27.78</td>\n",
       "      <td>231.447</td>\n",
       "      <td>39.7</td>\n",
       "      <td>14.312</td>\n",
       "      <td>9.842</td>\n",
       "      <td>94277.965</td>\n",
       "      <td>0.2</td>\n",
       "      <td>128.275</td>\n",
       "      <td>4.42</td>\n",
       "      <td>20.9</td>\n",
       "      <td>26.0</td>\n",
       "      <td>NaN</td>\n",
       "      <td>4.51</td>\n",
       "      <td>82.25</td>\n",
       "      <td>0.916</td>\n",
       "      <td>647601.0</td>\n",
       "      <td>NaN</td>\n",
       "      <td>NaN</td>\n",
       "      <td>NaN</td>\n",
       "      <td>NaN</td>\n",
       "    </tr>\n",
       "    <tr>\n",
       "      <th>250068</th>\n",
       "      <td>WLF</td>\n",
       "      <td>Oceania</td>\n",
       "      <td>Wallis and Futuna</td>\n",
       "      <td>2022-10-29</td>\n",
       "      <td>NaN</td>\n",
       "      <td>NaN</td>\n",
       "      <td>NaN</td>\n",
       "      <td>NaN</td>\n",
       "      <td>NaN</td>\n",
       "      <td>NaN</td>\n",
       "      <td>NaN</td>\n",
       "      <td>NaN</td>\n",
       "      <td>NaN</td>\n",
       "      <td>NaN</td>\n",
       "      <td>NaN</td>\n",
       "      <td>NaN</td>\n",
       "      <td>NaN</td>\n",
       "      <td>NaN</td>\n",
       "      <td>1.0</td>\n",
       "      <td>NaN</td>\n",
       "      <td>NaN</td>\n",
       "      <td>NaN</td>\n",
       "      <td>NaN</td>\n",
       "      <td>86.0</td>\n",
       "      <td>0.0</td>\n",
       "      <td>0.000</td>\n",
       "      <td>NaN</td>\n",
       "      <td>NaN</td>\n",
       "      <td>NaN</td>\n",
       "      <td>NaN</td>\n",
       "      <td>NaN</td>\n",
       "      <td>NaN</td>\n",
       "      <td>NaN</td>\n",
       "      <td>NaN</td>\n",
       "      <td>NaN</td>\n",
       "      <td>NaN</td>\n",
       "      <td>NaN</td>\n",
       "      <td>NaN</td>\n",
       "      <td>NaN</td>\n",
       "      <td>79.94</td>\n",
       "      <td>NaN</td>\n",
       "      <td>11596.0</td>\n",
       "      <td>NaN</td>\n",
       "      <td>NaN</td>\n",
       "      <td>NaN</td>\n",
       "      <td>NaN</td>\n",
       "    </tr>\n",
       "    <tr>\n",
       "      <th>249165</th>\n",
       "      <td>OWID_WLS</td>\n",
       "      <td>Europe</td>\n",
       "      <td>Wales</td>\n",
       "      <td>2022-08-15</td>\n",
       "      <td>NaN</td>\n",
       "      <td>NaN</td>\n",
       "      <td>NaN</td>\n",
       "      <td>NaN</td>\n",
       "      <td>NaN</td>\n",
       "      <td>NaN</td>\n",
       "      <td>NaN</td>\n",
       "      <td>NaN</td>\n",
       "      <td>NaN</td>\n",
       "      <td>7428115.0</td>\n",
       "      <td>2584917.0</td>\n",
       "      <td>2450053.0</td>\n",
       "      <td>2066926.0</td>\n",
       "      <td>696.0</td>\n",
       "      <td>626.0</td>\n",
       "      <td>234.33</td>\n",
       "      <td>81.54</td>\n",
       "      <td>77.29</td>\n",
       "      <td>65.2</td>\n",
       "      <td>197.0</td>\n",
       "      <td>132.0</td>\n",
       "      <td>0.004</td>\n",
       "      <td>NaN</td>\n",
       "      <td>NaN</td>\n",
       "      <td>NaN</td>\n",
       "      <td>NaN</td>\n",
       "      <td>NaN</td>\n",
       "      <td>NaN</td>\n",
       "      <td>NaN</td>\n",
       "      <td>NaN</td>\n",
       "      <td>NaN</td>\n",
       "      <td>NaN</td>\n",
       "      <td>NaN</td>\n",
       "      <td>NaN</td>\n",
       "      <td>NaN</td>\n",
       "      <td>NaN</td>\n",
       "      <td>NaN</td>\n",
       "      <td>3170000.0</td>\n",
       "      <td>NaN</td>\n",
       "      <td>NaN</td>\n",
       "      <td>NaN</td>\n",
       "      <td>NaN</td>\n",
       "    </tr>\n",
       "  </tbody>\n",
       "</table>\n",
       "</div>"
      ],
      "text/plain": [
       "        iso_code continent           location        date  total_tests  \\\n",
       "133742       LUX    Europe         Luxembourg  2020-07-03     222851.0   \n",
       "250068       WLF   Oceania  Wallis and Futuna  2022-10-29          NaN   \n",
       "249165  OWID_WLS    Europe              Wales  2022-08-15          NaN   \n",
       "\n",
       "        new_tests  total_tests_per_thousand  new_tests_per_thousand  \\\n",
       "133742    10512.0                   348.575                  16.442   \n",
       "250068        NaN                       NaN                     NaN   \n",
       "249165        NaN                       NaN                     NaN   \n",
       "\n",
       "        new_tests_smoothed  new_tests_smoothed_per_thousand  positive_rate  \\\n",
       "133742              7790.0                           12.185          0.004   \n",
       "250068                 NaN                              NaN            NaN   \n",
       "249165                 NaN                              NaN            NaN   \n",
       "\n",
       "        tests_per_case      tests_units  total_vaccinations  \\\n",
       "133742           250.0  tests performed                 NaN   \n",
       "250068             NaN              NaN                 NaN   \n",
       "249165             NaN              NaN           7428115.0   \n",
       "\n",
       "        people_vaccinated  people_fully_vaccinated  total_boosters  \\\n",
       "133742                NaN                      NaN             NaN   \n",
       "250068                NaN                      NaN             NaN   \n",
       "249165          2584917.0                2450053.0       2066926.0   \n",
       "\n",
       "        new_vaccinations  new_vaccinations_smoothed  \\\n",
       "133742               NaN                        NaN   \n",
       "250068               NaN                        1.0   \n",
       "249165             696.0                      626.0   \n",
       "\n",
       "        total_vaccinations_per_hundred  people_vaccinated_per_hundred  \\\n",
       "133742                             NaN                            NaN   \n",
       "250068                             NaN                            NaN   \n",
       "249165                          234.33                          81.54   \n",
       "\n",
       "        people_fully_vaccinated_per_hundred  total_boosters_per_hundred  \\\n",
       "133742                                  NaN                         NaN   \n",
       "250068                                  NaN                         NaN   \n",
       "249165                                77.29                        65.2   \n",
       "\n",
       "        new_vaccinations_smoothed_per_million  new_people_vaccinated_smoothed  \\\n",
       "133742                                    NaN                             NaN   \n",
       "250068                                   86.0                             0.0   \n",
       "249165                                  197.0                           132.0   \n",
       "\n",
       "        new_people_vaccinated_smoothed_per_hundred  stringency_index  \\\n",
       "133742                                         NaN             27.78   \n",
       "250068                                       0.000               NaN   \n",
       "249165                                       0.004               NaN   \n",
       "\n",
       "        population_density  median_age  aged_65_older  aged_70_older  \\\n",
       "133742             231.447        39.7         14.312          9.842   \n",
       "250068                 NaN         NaN            NaN            NaN   \n",
       "249165                 NaN         NaN            NaN            NaN   \n",
       "\n",
       "        gdp_per_capita  extreme_poverty  cardiovasc_death_rate  \\\n",
       "133742       94277.965              0.2                128.275   \n",
       "250068             NaN              NaN                    NaN   \n",
       "249165             NaN              NaN                    NaN   \n",
       "\n",
       "        diabetes_prevalence  female_smokers  male_smokers  \\\n",
       "133742                 4.42            20.9          26.0   \n",
       "250068                  NaN             NaN           NaN   \n",
       "249165                  NaN             NaN           NaN   \n",
       "\n",
       "        handwashing_facilities  hospital_beds_per_thousand  life_expectancy  \\\n",
       "133742                     NaN                        4.51            82.25   \n",
       "250068                     NaN                         NaN            79.94   \n",
       "249165                     NaN                         NaN              NaN   \n",
       "\n",
       "        human_development_index  population  \\\n",
       "133742                    0.916    647601.0   \n",
       "250068                      NaN     11596.0   \n",
       "249165                      NaN   3170000.0   \n",
       "\n",
       "        excess_mortality_cumulative_absolute  excess_mortality_cumulative  \\\n",
       "133742                                   NaN                          NaN   \n",
       "250068                                   NaN                          NaN   \n",
       "249165                                   NaN                          NaN   \n",
       "\n",
       "        excess_mortality  excess_mortality_cumulative_per_million  \n",
       "133742               NaN                                      NaN  \n",
       "250068               NaN                                      NaN  \n",
       "249165               NaN                                      NaN  "
      ]
     },
     "execution_count": 19,
     "metadata": {},
     "output_type": "execute_result"
    }
   ],
   "source": [
    "covid_vaccinations.sample(3)"
   ]
  },
  {
   "cell_type": "code",
   "execution_count": 39,
   "id": "4025902c",
   "metadata": {},
   "outputs": [
    {
     "data": {
      "text/plain": [
       "254400"
      ]
     },
     "execution_count": 39,
     "metadata": {},
     "output_type": "execute_result"
    }
   ],
   "source": [
    "# Fill covid_data.db with covid_deaths Data Frame contents:\n",
    "covid_deaths.to_sql('covid_deaths', conn, if_exists='replace', index = False)"
   ]
  },
  {
   "cell_type": "code",
   "execution_count": 40,
   "id": "72bf6ca9",
   "metadata": {},
   "outputs": [
    {
     "data": {
      "text/plain": [
       "254400"
      ]
     },
     "execution_count": 40,
     "metadata": {},
     "output_type": "execute_result"
    }
   ],
   "source": [
    "# Fill covid_data.db with covid_vaccinations Data Frame contents:\n",
    "covid_vaccinations.to_sql('covid_vaccinations', conn, if_exists='replace', index = False)"
   ]
  },
  {
   "cell_type": "code",
   "execution_count": 60,
   "id": "f7d638a1",
   "metadata": {
    "scrolled": true
   },
   "outputs": [
    {
     "data": {
      "text/plain": [
       "[('covid_deaths',), ('covid_vaccinations',), ('pop_vaccinated',)]"
      ]
     },
     "execution_count": 60,
     "metadata": {},
     "output_type": "execute_result"
    }
   ],
   "source": [
    "# Check to see if the new tables have been added to the the database file\n",
    "cur.execute(\"SELECT name FROM sqlite_master \").fetchall()"
   ]
  },
  {
   "cell_type": "markdown",
   "id": "c536565e",
   "metadata": {},
   "source": [
    "<font size=\"3\"> Looking at highest total cases/population (grouping by location, in descening order, as a percentage.) </font>"
   ]
  },
  {
   "cell_type": "code",
   "execution_count": 42,
   "id": "08467ee6",
   "metadata": {},
   "outputs": [
    {
     "name": "stdout",
     "output_type": "stream",
     "text": [
      "('Cyprus', 896007.0, 642663.0, 71.73) \n",
      "\n",
      "('San Marino', 33690.0, 23427.0, 69.54) \n",
      "\n",
      "('Faeroe Islands', 53117.0, 34658.0, 65.25) \n",
      "\n",
      "('Austria', 8939617.0, 5785590.0, 64.72) \n",
      "\n",
      "('Gibraltar', 32677.0, 20399.0, 62.43) \n",
      "\n",
      "('Slovenia', 2119843.0, 1321852.0, 62.36) \n",
      "\n",
      "('Brunei', 449002.0, 276067.0, 61.48) \n",
      "\n",
      "('Andorra', 79843.0, 47839.0, 59.92) \n",
      "\n",
      "('Saint Pierre and Miquelon', 5885.0, 3452.0, 58.66) \n",
      "\n",
      "('France', 67813000.0, 39568875.0, 58.35) \n",
      "\n"
     ]
    },
    {
     "data": {
      "text/plain": [
       "[None, None, None, None, None, None, None, None, None, None]"
      ]
     },
     "execution_count": 42,
     "metadata": {},
     "output_type": "execute_result"
    }
   ],
   "source": [
    "statement = \"\"\"SELECT location, population, MAX(total_cases), ROUND(MAX(total_cases/population)*100,2) as tot_pop\n",
    "FROM covid_deaths GROUP BY location ORDER BY tot_pop desc\"\"\"\n",
    "\n",
    "# Fetch only the top 10 results\n",
    "\n",
    "[print(i,'\\n') for i in cur.execute(statement).fetchmany(10)]\n",
    "\n",
    "#location Population  Max tot cases  Cases/Pop_Percentage "
   ]
  },
  {
   "cell_type": "markdown",
   "id": "02c5fa64",
   "metadata": {},
   "source": [
    "<font size=\"3\"> Looking at highest total deaths/population (grouping by location, in descening order, as a percentage.) </font>"
   ]
  },
  {
   "cell_type": "code",
   "execution_count": 44,
   "id": "cdee2973",
   "metadata": {},
   "outputs": [
    {
     "name": "stdout",
     "output_type": "stream",
     "text": [
      "('Peru', 34049588.0, 218931, 0.64) \n",
      "\n",
      "('Bulgaria', 6781955.0, 38182, 0.56) \n",
      "\n",
      "('Bosnia and Herzegovina', 3233530.0, 16257, 0.5) \n",
      "\n",
      "('Hungary', 9967304.0, 48677, 0.49) \n",
      "\n",
      "('North Macedonia', 2093606.0, 9641, 0.46) \n",
      "\n",
      "('Montenegro', 627082.0, 2797, 0.45) \n",
      "\n",
      "('Georgia', 3744385.0, 16926, 0.45) \n",
      "\n",
      "('Croatia', 4030361.0, 17883, 0.44) \n",
      "\n",
      "('Czechia', 10493990.0, 42312, 0.4) \n",
      "\n",
      "('Slovakia', 5643455.0, 20946, 0.37) \n",
      "\n"
     ]
    },
    {
     "data": {
      "text/plain": [
       "[None, None, None, None, None, None, None, None, None, None]"
      ]
     },
     "execution_count": 44,
     "metadata": {},
     "output_type": "execute_result"
    }
   ],
   "source": [
    "statement = \"\"\"SELECT location, population, MAX(cast(total_deaths as int)) as mtd, ROUND(MAX(total_deaths/population)*100,2) as d_p\n",
    "FROM covid_deaths WHERE Continent is not null GROUP BY location ORDER BY d_p desc\"\"\"\n",
    "\n",
    "# Fetch only the top 10 results\n",
    "[print(i,'\\n') for i in cur.execute(statement).fetchmany(10)]\n",
    "\n",
    "#location  Population  Max_tot_deaths Max_tot_deaths/pop      "
   ]
  },
  {
   "cell_type": "markdown",
   "id": "a3b9038e",
   "metadata": {},
   "source": [
    "<font size=\"3\"> Looking at highest total deaths/population, by contintent (grouping by continent, in descening order, as a percentage.)\n",
    " </font>"
   ]
  },
  {
   "cell_type": "code",
   "execution_count": 45,
   "id": "b655a1a5",
   "metadata": {},
   "outputs": [
    {
     "name": "stdout",
     "output_type": "stream",
     "text": [
      "('South America', 34049588.0, 697200, 0.64) \n",
      "\n",
      "('Europe', 6781955.0, 387153, 0.56) \n",
      "\n",
      "('Asia', 3744385.0, 530741, 0.45) \n",
      "\n",
      "('North America', 338289856.0, 1109591, 0.33) \n",
      "\n",
      "('Africa', 12356116.0, 102595, 0.24) \n",
      "\n",
      "('Oceania', 306292.0, 18615, 0.21) \n",
      "\n"
     ]
    },
    {
     "data": {
      "text/plain": [
       "[None, None, None, None, None, None]"
      ]
     },
     "execution_count": 45,
     "metadata": {},
     "output_type": "execute_result"
    }
   ],
   "source": [
    "statement = \"\"\"SELECT continent, population, MAX(cast(total_deaths as int)) as mtd, ROUND(MAX(total_deaths/population)*100,2) as d_p\n",
    "FROM covid_deaths WHERE Continent is not null GROUP BY continent ORDER BY d_p desc\"\"\"\n",
    "\n",
    "[print(i,'\\n') for i in cur.execute(statement).fetchall()]\n",
    "\n",
    "#location     Population  Max_tot_deaths Max_tot_deaths/pop    "
   ]
  },
  {
   "cell_type": "markdown",
   "id": "18ff38c1",
   "metadata": {},
   "source": [
    "<font size=\"3\"> \n",
    "    \n",
    "Join two tables (covid deaths and covid vaccinations)\n",
    "\n",
    "Add a column that keeps a rolling count of the sum of new vaccinations ordered by location and date\n",
    "\n",
    "Add a column that keeps a rolling count of the percentage of the population vaccinated (using a CTE) </font> "
   ]
  },
  {
   "cell_type": "code",
   "execution_count": 46,
   "id": "1413472a",
   "metadata": {},
   "outputs": [
    {
     "name": "stdout",
     "output_type": "stream",
     "text": [
      "('Asia', 'Afghanistan', '2021-05-27', 41128772.0, 2859.0, 2859, 0.007) \n",
      "\n",
      "('Asia', 'Afghanistan', '2021-06-03', 41128772.0, 4015.0, 6874, 0.017) \n",
      "\n",
      "('Asia', 'Afghanistan', '2022-01-27', 41128772.0, 6868.0, 13742, 0.033) \n",
      "\n",
      "('Asia', 'Afghanistan', '2022-04-27', 41128772.0, 383.0, 14125, 0.034) \n",
      "\n",
      "('Asia', 'Afghanistan', '2022-09-12', 41128772.0, 9447.0, 23572, 0.057) \n",
      "\n",
      "('Asia', 'Afghanistan', '2022-11-02', 41128772.0, 36587.0, 60159, 0.146) \n",
      "\n",
      "('Asia', 'Afghanistan', '2022-11-16', 41128772.0, 14800.0, 74959, 0.182) \n",
      "\n",
      "('Europe', 'Albania', '2021-01-13', 2842318.0, 60.0, 60, 0.002) \n",
      "\n",
      "('Europe', 'Albania', '2021-01-14', 2842318.0, 78.0, 138, 0.005) \n",
      "\n",
      "('Europe', 'Albania', '2021-01-15', 2842318.0, 42.0, 180, 0.006) \n",
      "\n",
      "('Europe', 'Albania', '2021-01-16', 2842318.0, 61.0, 241, 0.008) \n",
      "\n",
      "('Europe', 'Albania', '2021-01-17', 2842318.0, 36.0, 277, 0.01) \n",
      "\n",
      "('Europe', 'Albania', '2021-01-18', 2842318.0, 42.0, 319, 0.011) \n",
      "\n",
      "('Europe', 'Albania', '2021-01-19', 2842318.0, 36.0, 355, 0.012) \n",
      "\n",
      "('Europe', 'Albania', '2021-01-20', 2842318.0, 36.0, 391, 0.014) \n",
      "\n"
     ]
    },
    {
     "data": {
      "text/plain": [
       "[None,\n",
       " None,\n",
       " None,\n",
       " None,\n",
       " None,\n",
       " None,\n",
       " None,\n",
       " None,\n",
       " None,\n",
       " None,\n",
       " None,\n",
       " None,\n",
       " None,\n",
       " None,\n",
       " None]"
      ]
     },
     "execution_count": 46,
     "metadata": {},
     "output_type": "execute_result"
    }
   ],
   "source": [
    "statement = \"\"\"WITH pop_vaccinated(continent, location, date, population, new_vaccinations, rolling_sum_of_new_vaccinations)\n",
    "            AS\n",
    "            (\n",
    "            SELECT cd.continent, cd.location, cd.date, cd.population, cv.new_vaccinations,\n",
    "            SUM(cast(cv.new_vaccinations as int)) OVER (PARTITION BY cd.location ORDER BY cd.location, cd.date)\n",
    "            AS rolling_sum_of_new_vaccinations\n",
    "            FROM covid_deaths cd \n",
    "            INNER JOIN covid_vaccinations cv ON cd.location = cv.location AND cd.date = cv.date\n",
    "            WHERE cd.continent IS NOT NULL AND cv.new_vaccinations IS NOT NULL\n",
    "            ORDER BY cd.location, cd.date \n",
    "            )\n",
    "            \n",
    "            SELECT *, ROUND((100*(rolling_sum_of_new_vaccinations/population)),3)\n",
    "            FROM pop_vaccinated\"\"\"\n",
    "\n",
    "# Fetch only the top 15 results\n",
    "[print(i,'\\n') for i in cur.execute(statement).fetchmany(15)]\n",
    "\n",
    "# continent location      date        population  new_vaccinations rolling_vaccinations rolling_vaccinations/population\n"
   ]
  },
  {
   "cell_type": "markdown",
   "id": "dc5842b4",
   "metadata": {},
   "source": [
    "<font size=\"3\"> This is interesting. Let us create a view called \"pop_vaccinated\" with only the contient name, location, date, population, and the  number of new vaccinations. </font> "
   ]
  },
  {
   "cell_type": "code",
   "execution_count": 47,
   "id": "271314f6",
   "metadata": {},
   "outputs": [
    {
     "data": {
      "text/plain": [
       "<sqlite3.Cursor at 0x11b5171c0>"
      ]
     },
     "execution_count": 47,
     "metadata": {},
     "output_type": "execute_result"
    }
   ],
   "source": [
    "cur.execute(\"DROP VIEW IF EXISTS pop_vaccinated\")\n",
    "statement = \"\"\"CREATE VIEW pop_vaccinated AS\n",
    "            SELECT cd.continent, cd.location, cd.date, cd.population, cd.new_deaths, cv.new_vaccinations\n",
    "            FROM covid_deaths cd \n",
    "            INNER JOIN covid_vaccinations cv ON cd.location = cv.location AND cd.date = cv.date\n",
    "            WHERE cd.continent IS NOT NULL AND cv.new_vaccinations IS NOT NULL\n",
    "            ORDER BY cd.location, cd.date \n",
    "            \"\"\"\n",
    "cur.execute(statement)"
   ]
  },
  {
   "cell_type": "markdown",
   "id": "91ad268f",
   "metadata": {},
   "source": [
    "<font size=\"3\"> Preview data within the view: </font> "
   ]
  },
  {
   "cell_type": "code",
   "execution_count": 48,
   "id": "476a51bc",
   "metadata": {
    "scrolled": false
   },
   "outputs": [
    {
     "name": "stdout",
     "output_type": "stream",
     "text": [
      "('Asia', 'Afghanistan', '2021-05-27', 41128772.0, 14.0, 2859.0) \n",
      "\n",
      "('Asia', 'Afghanistan', '2021-06-03', 41128772.0, 27.0, 4015.0) \n",
      "\n",
      "('Asia', 'Afghanistan', '2022-01-27', 41128772.0, 2.0, 6868.0) \n",
      "\n",
      "('Asia', 'Afghanistan', '2022-04-27', 41128772.0, 0.0, 383.0) \n",
      "\n",
      "('Asia', 'Afghanistan', '2022-09-12', 41128772.0, 2.0, 9447.0) \n",
      "\n",
      "('Asia', 'Afghanistan', '2022-11-02', 41128772.0, 0.0, 36587.0) \n",
      "\n",
      "('Asia', 'Afghanistan', '2022-11-16', 41128772.0, 1.0, 14800.0) \n",
      "\n",
      "('Europe', 'Albania', '2021-01-13', 2842318.0, 4.0, 60.0) \n",
      "\n",
      "('Europe', 'Albania', '2021-01-14', 2842318.0, 5.0, 78.0) \n",
      "\n",
      "('Europe', 'Albania', '2021-01-15', 2842318.0, 4.0, 42.0) \n",
      "\n",
      "('Europe', 'Albania', '2021-01-16', 2842318.0, 5.0, 61.0) \n",
      "\n",
      "('Europe', 'Albania', '2021-01-17', 2842318.0, 7.0, 36.0) \n",
      "\n"
     ]
    },
    {
     "data": {
      "text/plain": [
       "[None, None, None, None, None, None, None, None, None, None, None, None]"
      ]
     },
     "execution_count": 48,
     "metadata": {},
     "output_type": "execute_result"
    }
   ],
   "source": [
    "[print(i,'\\n') for i in cur.execute(\"select * from pop_vaccinated\").fetchmany(12)]\n",
    "\n",
    "# continent location      date        population  new_deaths new_vaccinations \n"
   ]
  },
  {
   "cell_type": "markdown",
   "id": "0ccddafe",
   "metadata": {},
   "source": [
    "<font size=\"3\"> Running these querries has provided us with some insight, however it would be much easier to see some of the trends found here with the help of a visualization tool like **Tableau**. I will load the contents of the VIEW into a pandas dataframe and upload it into a CSV file </font>"
   ]
  },
  {
   "cell_type": "code",
   "execution_count": 49,
   "id": "bdadc794",
   "metadata": {},
   "outputs": [],
   "source": [
    "vaccines_df = pd.DataFrame(cur.execute(\"select * from pop_vaccinated\").fetchall(), columns = [\"Continent\", \"Location\", \"Date\",\n",
    "\"Population\", \"New Deaths\" ,\"New Vaccinations\"])"
   ]
  },
  {
   "cell_type": "code",
   "execution_count": 51,
   "id": "d5774487",
   "metadata": {},
   "outputs": [
    {
     "data": {
      "text/plain": [
       "Europe           21231\n",
       "Asia             14144\n",
       "North America     5506\n",
       "South America     5266\n",
       "Africa            2780\n",
       "Oceania           1248\n",
       "Name: Continent, dtype: int64"
      ]
     },
     "execution_count": 51,
     "metadata": {},
     "output_type": "execute_result"
    }
   ],
   "source": [
    "vaccines_df[Continent== 'Oceania']"
   ]
  },
  {
   "cell_type": "code",
   "execution_count": 58,
   "id": "5033de67",
   "metadata": {},
   "outputs": [
    {
     "data": {
      "text/plain": [
       "['Australia', 'Fiji', 'French Polynesia', 'Nauru', 'New Zealand']"
      ]
     },
     "execution_count": 58,
     "metadata": {},
     "output_type": "execute_result"
    }
   ],
   "source": [
    "# For future reference, the following countries are considered part of \"Oceania\":\n",
    "vaccines_df['Location'][vaccines_df.Continent == 'Oceania'].unique().tolist()"
   ]
  },
  {
   "cell_type": "code",
   "execution_count": 50,
   "id": "e82dbe25",
   "metadata": {},
   "outputs": [
    {
     "data": {
      "text/html": [
       "<div>\n",
       "<style scoped>\n",
       "    .dataframe tbody tr th:only-of-type {\n",
       "        vertical-align: middle;\n",
       "    }\n",
       "\n",
       "    .dataframe tbody tr th {\n",
       "        vertical-align: top;\n",
       "    }\n",
       "\n",
       "    .dataframe thead th {\n",
       "        text-align: right;\n",
       "    }\n",
       "</style>\n",
       "<table border=\"1\" class=\"dataframe\">\n",
       "  <thead>\n",
       "    <tr style=\"text-align: right;\">\n",
       "      <th></th>\n",
       "      <th>Continent</th>\n",
       "      <th>Location</th>\n",
       "      <th>Date</th>\n",
       "      <th>Population</th>\n",
       "      <th>New Deaths</th>\n",
       "      <th>New Vaccinations</th>\n",
       "    </tr>\n",
       "  </thead>\n",
       "  <tbody>\n",
       "    <tr>\n",
       "      <th>0</th>\n",
       "      <td>Asia</td>\n",
       "      <td>Afghanistan</td>\n",
       "      <td>2021-05-27</td>\n",
       "      <td>41128772.0</td>\n",
       "      <td>14.0</td>\n",
       "      <td>2859.0</td>\n",
       "    </tr>\n",
       "    <tr>\n",
       "      <th>1</th>\n",
       "      <td>Asia</td>\n",
       "      <td>Afghanistan</td>\n",
       "      <td>2021-06-03</td>\n",
       "      <td>41128772.0</td>\n",
       "      <td>27.0</td>\n",
       "      <td>4015.0</td>\n",
       "    </tr>\n",
       "    <tr>\n",
       "      <th>2</th>\n",
       "      <td>Asia</td>\n",
       "      <td>Afghanistan</td>\n",
       "      <td>2022-01-27</td>\n",
       "      <td>41128772.0</td>\n",
       "      <td>2.0</td>\n",
       "      <td>6868.0</td>\n",
       "    </tr>\n",
       "    <tr>\n",
       "      <th>3</th>\n",
       "      <td>Asia</td>\n",
       "      <td>Afghanistan</td>\n",
       "      <td>2022-04-27</td>\n",
       "      <td>41128772.0</td>\n",
       "      <td>0.0</td>\n",
       "      <td>383.0</td>\n",
       "    </tr>\n",
       "    <tr>\n",
       "      <th>4</th>\n",
       "      <td>Asia</td>\n",
       "      <td>Afghanistan</td>\n",
       "      <td>2022-09-12</td>\n",
       "      <td>41128772.0</td>\n",
       "      <td>2.0</td>\n",
       "      <td>9447.0</td>\n",
       "    </tr>\n",
       "  </tbody>\n",
       "</table>\n",
       "</div>"
      ],
      "text/plain": [
       "  Continent     Location        Date  Population  New Deaths  New Vaccinations\n",
       "0      Asia  Afghanistan  2021-05-27  41128772.0        14.0            2859.0\n",
       "1      Asia  Afghanistan  2021-06-03  41128772.0        27.0            4015.0\n",
       "2      Asia  Afghanistan  2022-01-27  41128772.0         2.0            6868.0\n",
       "3      Asia  Afghanistan  2022-04-27  41128772.0         0.0             383.0\n",
       "4      Asia  Afghanistan  2022-09-12  41128772.0         2.0            9447.0"
      ]
     },
     "execution_count": 50,
     "metadata": {},
     "output_type": "execute_result"
    }
   ],
   "source": [
    "vaccines_df.head()"
   ]
  },
  {
   "cell_type": "code",
   "execution_count": 59,
   "id": "6da131f1",
   "metadata": {},
   "outputs": [],
   "source": [
    "vaccines_df.to_csv('Covid_data.csv')"
   ]
  }
 ],
 "metadata": {
  "kernelspec": {
   "display_name": "Python 3 (ipykernel)",
   "language": "python",
   "name": "python3"
  },
  "language_info": {
   "codemirror_mode": {
    "name": "ipython",
    "version": 3
   },
   "file_extension": ".py",
   "mimetype": "text/x-python",
   "name": "python",
   "nbconvert_exporter": "python",
   "pygments_lexer": "ipython3",
   "version": "3.10.9"
  }
 },
 "nbformat": 4,
 "nbformat_minor": 5
}
