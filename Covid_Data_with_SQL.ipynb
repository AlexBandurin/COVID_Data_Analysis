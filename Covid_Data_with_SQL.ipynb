{
 "cells": [
  {
   "cell_type": "markdown",
   "id": "ce04cf1a",
   "metadata": {},
   "source": [
    "### Exploring some covid data uploaded to a db file using SQLite within Python. \n",
    "\n",
    "[Data source](https://ourworldindata.org/covid-deaths)"
   ]
  },
  {
   "cell_type": "code",
   "execution_count": 2,
   "id": "cadef2a3",
   "metadata": {},
   "outputs": [],
   "source": [
    "import sqlite3, csv\n",
    "import pandas as pd\n",
    "import numpy as np\n",
    "import matplotlib.pyplot as plt\n",
    "import seaborn as sns\n",
    "import random "
   ]
  },
  {
   "cell_type": "code",
   "execution_count": 66,
   "id": "c194c2f2",
   "metadata": {},
   "outputs": [],
   "source": [
    "pd.set_option('display.max_columns', None)\n",
    "pd.set_option('display.max_rows', None)"
   ]
  },
  {
   "cell_type": "code",
   "execution_count": 43,
   "id": "2f730e39",
   "metadata": {},
   "outputs": [],
   "source": [
    "conn = sqlite3.connect(\"covid_data.db\")\n",
    "cur = conn.cursor()\n",
    "covid_df = pd.read_csv(\"//Users/alex/Downloads/covid-data.csv\")"
   ]
  },
  {
   "cell_type": "code",
   "execution_count": 44,
   "id": "4c07beaf",
   "metadata": {},
   "outputs": [
    {
     "name": "stdout",
     "output_type": "stream",
     "text": [
      "<class 'pandas.core.frame.DataFrame'>\n",
      "RangeIndex: 302572 entries, 0 to 302571\n",
      "Columns: 67 entries, iso_code to excess_mortality_cumulative_per_million\n",
      "dtypes: float64(62), object(5)\n",
      "memory usage: 154.7+ MB\n"
     ]
    }
   ],
   "source": [
    "covid_df.info(verbose = False)"
   ]
  },
  {
   "cell_type": "code",
   "execution_count": 45,
   "id": "742a46f4",
   "metadata": {},
   "outputs": [],
   "source": [
    "covid_deaths = pd.concat([covid_df.iloc[:,:25], covid_df.iloc[:,62].to_frame()], axis = 1)"
   ]
  },
  {
   "cell_type": "code",
   "execution_count": 46,
   "id": "3cfd0ae2",
   "metadata": {},
   "outputs": [],
   "source": [
    "covid_vaccinations = covid_df.drop(covid_df.columns[4:25], axis = 1)"
   ]
  },
  {
   "cell_type": "code",
   "execution_count": 47,
   "id": "1121fb6f",
   "metadata": {},
   "outputs": [
    {
     "data": {
      "text/html": [
       "<div>\n",
       "<style scoped>\n",
       "    .dataframe tbody tr th:only-of-type {\n",
       "        vertical-align: middle;\n",
       "    }\n",
       "\n",
       "    .dataframe tbody tr th {\n",
       "        vertical-align: top;\n",
       "    }\n",
       "\n",
       "    .dataframe thead th {\n",
       "        text-align: right;\n",
       "    }\n",
       "</style>\n",
       "<table border=\"1\" class=\"dataframe\">\n",
       "  <thead>\n",
       "    <tr style=\"text-align: right;\">\n",
       "      <th></th>\n",
       "      <th>iso_code</th>\n",
       "      <th>continent</th>\n",
       "      <th>location</th>\n",
       "      <th>date</th>\n",
       "      <th>total_cases</th>\n",
       "      <th>new_cases</th>\n",
       "      <th>new_cases_smoothed</th>\n",
       "      <th>total_deaths</th>\n",
       "      <th>new_deaths</th>\n",
       "      <th>new_deaths_smoothed</th>\n",
       "      <th>total_cases_per_million</th>\n",
       "      <th>new_cases_per_million</th>\n",
       "      <th>new_cases_smoothed_per_million</th>\n",
       "      <th>total_deaths_per_million</th>\n",
       "      <th>new_deaths_per_million</th>\n",
       "      <th>new_deaths_smoothed_per_million</th>\n",
       "      <th>reproduction_rate</th>\n",
       "      <th>icu_patients</th>\n",
       "      <th>icu_patients_per_million</th>\n",
       "      <th>hosp_patients</th>\n",
       "      <th>hosp_patients_per_million</th>\n",
       "      <th>weekly_icu_admissions</th>\n",
       "      <th>weekly_icu_admissions_per_million</th>\n",
       "      <th>weekly_hosp_admissions</th>\n",
       "      <th>weekly_hosp_admissions_per_million</th>\n",
       "      <th>population</th>\n",
       "    </tr>\n",
       "  </thead>\n",
       "  <tbody>\n",
       "    <tr>\n",
       "      <th>0</th>\n",
       "      <td>AFG</td>\n",
       "      <td>Asia</td>\n",
       "      <td>Afghanistan</td>\n",
       "      <td>2020-01-03</td>\n",
       "      <td>NaN</td>\n",
       "      <td>0.0</td>\n",
       "      <td>NaN</td>\n",
       "      <td>NaN</td>\n",
       "      <td>0.0</td>\n",
       "      <td>NaN</td>\n",
       "      <td>NaN</td>\n",
       "      <td>0.0</td>\n",
       "      <td>NaN</td>\n",
       "      <td>NaN</td>\n",
       "      <td>0.0</td>\n",
       "      <td>NaN</td>\n",
       "      <td>NaN</td>\n",
       "      <td>NaN</td>\n",
       "      <td>NaN</td>\n",
       "      <td>NaN</td>\n",
       "      <td>NaN</td>\n",
       "      <td>NaN</td>\n",
       "      <td>NaN</td>\n",
       "      <td>NaN</td>\n",
       "      <td>NaN</td>\n",
       "      <td>41128772.0</td>\n",
       "    </tr>\n",
       "    <tr>\n",
       "      <th>1</th>\n",
       "      <td>AFG</td>\n",
       "      <td>Asia</td>\n",
       "      <td>Afghanistan</td>\n",
       "      <td>2020-01-04</td>\n",
       "      <td>NaN</td>\n",
       "      <td>0.0</td>\n",
       "      <td>NaN</td>\n",
       "      <td>NaN</td>\n",
       "      <td>0.0</td>\n",
       "      <td>NaN</td>\n",
       "      <td>NaN</td>\n",
       "      <td>0.0</td>\n",
       "      <td>NaN</td>\n",
       "      <td>NaN</td>\n",
       "      <td>0.0</td>\n",
       "      <td>NaN</td>\n",
       "      <td>NaN</td>\n",
       "      <td>NaN</td>\n",
       "      <td>NaN</td>\n",
       "      <td>NaN</td>\n",
       "      <td>NaN</td>\n",
       "      <td>NaN</td>\n",
       "      <td>NaN</td>\n",
       "      <td>NaN</td>\n",
       "      <td>NaN</td>\n",
       "      <td>41128772.0</td>\n",
       "    </tr>\n",
       "    <tr>\n",
       "      <th>2</th>\n",
       "      <td>AFG</td>\n",
       "      <td>Asia</td>\n",
       "      <td>Afghanistan</td>\n",
       "      <td>2020-01-05</td>\n",
       "      <td>NaN</td>\n",
       "      <td>0.0</td>\n",
       "      <td>NaN</td>\n",
       "      <td>NaN</td>\n",
       "      <td>0.0</td>\n",
       "      <td>NaN</td>\n",
       "      <td>NaN</td>\n",
       "      <td>0.0</td>\n",
       "      <td>NaN</td>\n",
       "      <td>NaN</td>\n",
       "      <td>0.0</td>\n",
       "      <td>NaN</td>\n",
       "      <td>NaN</td>\n",
       "      <td>NaN</td>\n",
       "      <td>NaN</td>\n",
       "      <td>NaN</td>\n",
       "      <td>NaN</td>\n",
       "      <td>NaN</td>\n",
       "      <td>NaN</td>\n",
       "      <td>NaN</td>\n",
       "      <td>NaN</td>\n",
       "      <td>41128772.0</td>\n",
       "    </tr>\n",
       "    <tr>\n",
       "      <th>3</th>\n",
       "      <td>AFG</td>\n",
       "      <td>Asia</td>\n",
       "      <td>Afghanistan</td>\n",
       "      <td>2020-01-06</td>\n",
       "      <td>NaN</td>\n",
       "      <td>0.0</td>\n",
       "      <td>NaN</td>\n",
       "      <td>NaN</td>\n",
       "      <td>0.0</td>\n",
       "      <td>NaN</td>\n",
       "      <td>NaN</td>\n",
       "      <td>0.0</td>\n",
       "      <td>NaN</td>\n",
       "      <td>NaN</td>\n",
       "      <td>0.0</td>\n",
       "      <td>NaN</td>\n",
       "      <td>NaN</td>\n",
       "      <td>NaN</td>\n",
       "      <td>NaN</td>\n",
       "      <td>NaN</td>\n",
       "      <td>NaN</td>\n",
       "      <td>NaN</td>\n",
       "      <td>NaN</td>\n",
       "      <td>NaN</td>\n",
       "      <td>NaN</td>\n",
       "      <td>41128772.0</td>\n",
       "    </tr>\n",
       "    <tr>\n",
       "      <th>4</th>\n",
       "      <td>AFG</td>\n",
       "      <td>Asia</td>\n",
       "      <td>Afghanistan</td>\n",
       "      <td>2020-01-07</td>\n",
       "      <td>NaN</td>\n",
       "      <td>0.0</td>\n",
       "      <td>NaN</td>\n",
       "      <td>NaN</td>\n",
       "      <td>0.0</td>\n",
       "      <td>NaN</td>\n",
       "      <td>NaN</td>\n",
       "      <td>0.0</td>\n",
       "      <td>NaN</td>\n",
       "      <td>NaN</td>\n",
       "      <td>0.0</td>\n",
       "      <td>NaN</td>\n",
       "      <td>NaN</td>\n",
       "      <td>NaN</td>\n",
       "      <td>NaN</td>\n",
       "      <td>NaN</td>\n",
       "      <td>NaN</td>\n",
       "      <td>NaN</td>\n",
       "      <td>NaN</td>\n",
       "      <td>NaN</td>\n",
       "      <td>NaN</td>\n",
       "      <td>41128772.0</td>\n",
       "    </tr>\n",
       "  </tbody>\n",
       "</table>\n",
       "</div>"
      ],
      "text/plain": [
       "  iso_code continent     location        date  total_cases  new_cases  \\\n",
       "0      AFG      Asia  Afghanistan  2020-01-03          NaN        0.0   \n",
       "1      AFG      Asia  Afghanistan  2020-01-04          NaN        0.0   \n",
       "2      AFG      Asia  Afghanistan  2020-01-05          NaN        0.0   \n",
       "3      AFG      Asia  Afghanistan  2020-01-06          NaN        0.0   \n",
       "4      AFG      Asia  Afghanistan  2020-01-07          NaN        0.0   \n",
       "\n",
       "   new_cases_smoothed  total_deaths  new_deaths  new_deaths_smoothed  \\\n",
       "0                 NaN           NaN         0.0                  NaN   \n",
       "1                 NaN           NaN         0.0                  NaN   \n",
       "2                 NaN           NaN         0.0                  NaN   \n",
       "3                 NaN           NaN         0.0                  NaN   \n",
       "4                 NaN           NaN         0.0                  NaN   \n",
       "\n",
       "   total_cases_per_million  new_cases_per_million  \\\n",
       "0                      NaN                    0.0   \n",
       "1                      NaN                    0.0   \n",
       "2                      NaN                    0.0   \n",
       "3                      NaN                    0.0   \n",
       "4                      NaN                    0.0   \n",
       "\n",
       "   new_cases_smoothed_per_million  total_deaths_per_million  \\\n",
       "0                             NaN                       NaN   \n",
       "1                             NaN                       NaN   \n",
       "2                             NaN                       NaN   \n",
       "3                             NaN                       NaN   \n",
       "4                             NaN                       NaN   \n",
       "\n",
       "   new_deaths_per_million  new_deaths_smoothed_per_million  reproduction_rate  \\\n",
       "0                     0.0                              NaN                NaN   \n",
       "1                     0.0                              NaN                NaN   \n",
       "2                     0.0                              NaN                NaN   \n",
       "3                     0.0                              NaN                NaN   \n",
       "4                     0.0                              NaN                NaN   \n",
       "\n",
       "   icu_patients  icu_patients_per_million  hosp_patients  \\\n",
       "0           NaN                       NaN            NaN   \n",
       "1           NaN                       NaN            NaN   \n",
       "2           NaN                       NaN            NaN   \n",
       "3           NaN                       NaN            NaN   \n",
       "4           NaN                       NaN            NaN   \n",
       "\n",
       "   hosp_patients_per_million  weekly_icu_admissions  \\\n",
       "0                        NaN                    NaN   \n",
       "1                        NaN                    NaN   \n",
       "2                        NaN                    NaN   \n",
       "3                        NaN                    NaN   \n",
       "4                        NaN                    NaN   \n",
       "\n",
       "   weekly_icu_admissions_per_million  weekly_hosp_admissions  \\\n",
       "0                                NaN                     NaN   \n",
       "1                                NaN                     NaN   \n",
       "2                                NaN                     NaN   \n",
       "3                                NaN                     NaN   \n",
       "4                                NaN                     NaN   \n",
       "\n",
       "   weekly_hosp_admissions_per_million  population  \n",
       "0                                 NaN  41128772.0  \n",
       "1                                 NaN  41128772.0  \n",
       "2                                 NaN  41128772.0  \n",
       "3                                 NaN  41128772.0  \n",
       "4                                 NaN  41128772.0  "
      ]
     },
     "execution_count": 47,
     "metadata": {},
     "output_type": "execute_result"
    }
   ],
   "source": [
    "covid_deaths.head()"
   ]
  },
  {
   "cell_type": "code",
   "execution_count": 48,
   "id": "8b302a10",
   "metadata": {},
   "outputs": [
    {
     "data": {
      "text/html": [
       "<div>\n",
       "<style scoped>\n",
       "    .dataframe tbody tr th:only-of-type {\n",
       "        vertical-align: middle;\n",
       "    }\n",
       "\n",
       "    .dataframe tbody tr th {\n",
       "        vertical-align: top;\n",
       "    }\n",
       "\n",
       "    .dataframe thead th {\n",
       "        text-align: right;\n",
       "    }\n",
       "</style>\n",
       "<table border=\"1\" class=\"dataframe\">\n",
       "  <thead>\n",
       "    <tr style=\"text-align: right;\">\n",
       "      <th></th>\n",
       "      <th>iso_code</th>\n",
       "      <th>continent</th>\n",
       "      <th>location</th>\n",
       "      <th>date</th>\n",
       "      <th>total_tests</th>\n",
       "      <th>new_tests</th>\n",
       "      <th>total_tests_per_thousand</th>\n",
       "      <th>new_tests_per_thousand</th>\n",
       "      <th>new_tests_smoothed</th>\n",
       "      <th>new_tests_smoothed_per_thousand</th>\n",
       "      <th>positive_rate</th>\n",
       "      <th>tests_per_case</th>\n",
       "      <th>tests_units</th>\n",
       "      <th>total_vaccinations</th>\n",
       "      <th>people_vaccinated</th>\n",
       "      <th>people_fully_vaccinated</th>\n",
       "      <th>total_boosters</th>\n",
       "      <th>new_vaccinations</th>\n",
       "      <th>new_vaccinations_smoothed</th>\n",
       "      <th>total_vaccinations_per_hundred</th>\n",
       "      <th>people_vaccinated_per_hundred</th>\n",
       "      <th>people_fully_vaccinated_per_hundred</th>\n",
       "      <th>total_boosters_per_hundred</th>\n",
       "      <th>new_vaccinations_smoothed_per_million</th>\n",
       "      <th>new_people_vaccinated_smoothed</th>\n",
       "      <th>new_people_vaccinated_smoothed_per_hundred</th>\n",
       "      <th>stringency_index</th>\n",
       "      <th>population_density</th>\n",
       "      <th>median_age</th>\n",
       "      <th>aged_65_older</th>\n",
       "      <th>aged_70_older</th>\n",
       "      <th>gdp_per_capita</th>\n",
       "      <th>extreme_poverty</th>\n",
       "      <th>cardiovasc_death_rate</th>\n",
       "      <th>diabetes_prevalence</th>\n",
       "      <th>female_smokers</th>\n",
       "      <th>male_smokers</th>\n",
       "      <th>handwashing_facilities</th>\n",
       "      <th>hospital_beds_per_thousand</th>\n",
       "      <th>life_expectancy</th>\n",
       "      <th>human_development_index</th>\n",
       "      <th>population</th>\n",
       "      <th>excess_mortality_cumulative_absolute</th>\n",
       "      <th>excess_mortality_cumulative</th>\n",
       "      <th>excess_mortality</th>\n",
       "      <th>excess_mortality_cumulative_per_million</th>\n",
       "    </tr>\n",
       "  </thead>\n",
       "  <tbody>\n",
       "    <tr>\n",
       "      <th>123781</th>\n",
       "      <td>IRN</td>\n",
       "      <td>Asia</td>\n",
       "      <td>Iran</td>\n",
       "      <td>2021-11-17</td>\n",
       "      <td>NaN</td>\n",
       "      <td>NaN</td>\n",
       "      <td>NaN</td>\n",
       "      <td>NaN</td>\n",
       "      <td>99371.0</td>\n",
       "      <td>1.13</td>\n",
       "      <td>0.0654</td>\n",
       "      <td>15.3</td>\n",
       "      <td>tests performed</td>\n",
       "      <td>NaN</td>\n",
       "      <td>NaN</td>\n",
       "      <td>NaN</td>\n",
       "      <td>NaN</td>\n",
       "      <td>NaN</td>\n",
       "      <td>531103.0</td>\n",
       "      <td>NaN</td>\n",
       "      <td>NaN</td>\n",
       "      <td>NaN</td>\n",
       "      <td>NaN</td>\n",
       "      <td>5998.0</td>\n",
       "      <td>95320.0</td>\n",
       "      <td>0.108</td>\n",
       "      <td>69.91</td>\n",
       "      <td>49.831</td>\n",
       "      <td>32.4</td>\n",
       "      <td>5.440</td>\n",
       "      <td>3.182</td>\n",
       "      <td>19082.620</td>\n",
       "      <td>0.2</td>\n",
       "      <td>270.308</td>\n",
       "      <td>9.59</td>\n",
       "      <td>0.8</td>\n",
       "      <td>21.1</td>\n",
       "      <td>NaN</td>\n",
       "      <td>1.5</td>\n",
       "      <td>76.68</td>\n",
       "      <td>0.783</td>\n",
       "      <td>88550568.0</td>\n",
       "      <td>NaN</td>\n",
       "      <td>NaN</td>\n",
       "      <td>NaN</td>\n",
       "      <td>NaN</td>\n",
       "    </tr>\n",
       "    <tr>\n",
       "      <th>26511</th>\n",
       "      <td>BLZ</td>\n",
       "      <td>North America</td>\n",
       "      <td>Belize</td>\n",
       "      <td>2020-07-12</td>\n",
       "      <td>NaN</td>\n",
       "      <td>NaN</td>\n",
       "      <td>NaN</td>\n",
       "      <td>NaN</td>\n",
       "      <td>NaN</td>\n",
       "      <td>NaN</td>\n",
       "      <td>NaN</td>\n",
       "      <td>NaN</td>\n",
       "      <td>NaN</td>\n",
       "      <td>NaN</td>\n",
       "      <td>NaN</td>\n",
       "      <td>NaN</td>\n",
       "      <td>NaN</td>\n",
       "      <td>NaN</td>\n",
       "      <td>NaN</td>\n",
       "      <td>NaN</td>\n",
       "      <td>NaN</td>\n",
       "      <td>NaN</td>\n",
       "      <td>NaN</td>\n",
       "      <td>NaN</td>\n",
       "      <td>NaN</td>\n",
       "      <td>NaN</td>\n",
       "      <td>69.44</td>\n",
       "      <td>16.426</td>\n",
       "      <td>25.0</td>\n",
       "      <td>3.853</td>\n",
       "      <td>2.279</td>\n",
       "      <td>7824.362</td>\n",
       "      <td>NaN</td>\n",
       "      <td>176.957</td>\n",
       "      <td>17.11</td>\n",
       "      <td>NaN</td>\n",
       "      <td>NaN</td>\n",
       "      <td>90.083</td>\n",
       "      <td>1.3</td>\n",
       "      <td>74.62</td>\n",
       "      <td>0.716</td>\n",
       "      <td>405285.0</td>\n",
       "      <td>NaN</td>\n",
       "      <td>NaN</td>\n",
       "      <td>NaN</td>\n",
       "      <td>NaN</td>\n",
       "    </tr>\n",
       "    <tr>\n",
       "      <th>8196</th>\n",
       "      <td>AGO</td>\n",
       "      <td>Africa</td>\n",
       "      <td>Angola</td>\n",
       "      <td>2022-10-19</td>\n",
       "      <td>NaN</td>\n",
       "      <td>NaN</td>\n",
       "      <td>NaN</td>\n",
       "      <td>NaN</td>\n",
       "      <td>NaN</td>\n",
       "      <td>NaN</td>\n",
       "      <td>NaN</td>\n",
       "      <td>NaN</td>\n",
       "      <td>NaN</td>\n",
       "      <td>NaN</td>\n",
       "      <td>NaN</td>\n",
       "      <td>NaN</td>\n",
       "      <td>NaN</td>\n",
       "      <td>NaN</td>\n",
       "      <td>15890.0</td>\n",
       "      <td>NaN</td>\n",
       "      <td>NaN</td>\n",
       "      <td>NaN</td>\n",
       "      <td>NaN</td>\n",
       "      <td>446.0</td>\n",
       "      <td>0.0</td>\n",
       "      <td>0.000</td>\n",
       "      <td>22.65</td>\n",
       "      <td>23.890</td>\n",
       "      <td>16.8</td>\n",
       "      <td>2.405</td>\n",
       "      <td>1.362</td>\n",
       "      <td>5819.495</td>\n",
       "      <td>NaN</td>\n",
       "      <td>276.045</td>\n",
       "      <td>3.94</td>\n",
       "      <td>NaN</td>\n",
       "      <td>NaN</td>\n",
       "      <td>26.664</td>\n",
       "      <td>NaN</td>\n",
       "      <td>61.15</td>\n",
       "      <td>0.581</td>\n",
       "      <td>35588996.0</td>\n",
       "      <td>NaN</td>\n",
       "      <td>NaN</td>\n",
       "      <td>NaN</td>\n",
       "      <td>NaN</td>\n",
       "    </tr>\n",
       "  </tbody>\n",
       "</table>\n",
       "</div>"
      ],
      "text/plain": [
       "       iso_code      continent location        date  total_tests  new_tests  \\\n",
       "123781      IRN           Asia     Iran  2021-11-17          NaN        NaN   \n",
       "26511       BLZ  North America   Belize  2020-07-12          NaN        NaN   \n",
       "8196        AGO         Africa   Angola  2022-10-19          NaN        NaN   \n",
       "\n",
       "        total_tests_per_thousand  new_tests_per_thousand  new_tests_smoothed  \\\n",
       "123781                       NaN                     NaN             99371.0   \n",
       "26511                        NaN                     NaN                 NaN   \n",
       "8196                         NaN                     NaN                 NaN   \n",
       "\n",
       "        new_tests_smoothed_per_thousand  positive_rate  tests_per_case  \\\n",
       "123781                             1.13         0.0654            15.3   \n",
       "26511                               NaN            NaN             NaN   \n",
       "8196                                NaN            NaN             NaN   \n",
       "\n",
       "            tests_units  total_vaccinations  people_vaccinated  \\\n",
       "123781  tests performed                 NaN                NaN   \n",
       "26511               NaN                 NaN                NaN   \n",
       "8196                NaN                 NaN                NaN   \n",
       "\n",
       "        people_fully_vaccinated  total_boosters  new_vaccinations  \\\n",
       "123781                      NaN             NaN               NaN   \n",
       "26511                       NaN             NaN               NaN   \n",
       "8196                        NaN             NaN               NaN   \n",
       "\n",
       "        new_vaccinations_smoothed  total_vaccinations_per_hundred  \\\n",
       "123781                   531103.0                             NaN   \n",
       "26511                         NaN                             NaN   \n",
       "8196                      15890.0                             NaN   \n",
       "\n",
       "        people_vaccinated_per_hundred  people_fully_vaccinated_per_hundred  \\\n",
       "123781                            NaN                                  NaN   \n",
       "26511                             NaN                                  NaN   \n",
       "8196                              NaN                                  NaN   \n",
       "\n",
       "        total_boosters_per_hundred  new_vaccinations_smoothed_per_million  \\\n",
       "123781                         NaN                                 5998.0   \n",
       "26511                          NaN                                    NaN   \n",
       "8196                           NaN                                  446.0   \n",
       "\n",
       "        new_people_vaccinated_smoothed  \\\n",
       "123781                         95320.0   \n",
       "26511                              NaN   \n",
       "8196                               0.0   \n",
       "\n",
       "        new_people_vaccinated_smoothed_per_hundred  stringency_index  \\\n",
       "123781                                       0.108             69.91   \n",
       "26511                                          NaN             69.44   \n",
       "8196                                         0.000             22.65   \n",
       "\n",
       "        population_density  median_age  aged_65_older  aged_70_older  \\\n",
       "123781              49.831        32.4          5.440          3.182   \n",
       "26511               16.426        25.0          3.853          2.279   \n",
       "8196                23.890        16.8          2.405          1.362   \n",
       "\n",
       "        gdp_per_capita  extreme_poverty  cardiovasc_death_rate  \\\n",
       "123781       19082.620              0.2                270.308   \n",
       "26511         7824.362              NaN                176.957   \n",
       "8196          5819.495              NaN                276.045   \n",
       "\n",
       "        diabetes_prevalence  female_smokers  male_smokers  \\\n",
       "123781                 9.59             0.8          21.1   \n",
       "26511                 17.11             NaN           NaN   \n",
       "8196                   3.94             NaN           NaN   \n",
       "\n",
       "        handwashing_facilities  hospital_beds_per_thousand  life_expectancy  \\\n",
       "123781                     NaN                         1.5            76.68   \n",
       "26511                   90.083                         1.3            74.62   \n",
       "8196                    26.664                         NaN            61.15   \n",
       "\n",
       "        human_development_index  population  \\\n",
       "123781                    0.783  88550568.0   \n",
       "26511                     0.716    405285.0   \n",
       "8196                      0.581  35588996.0   \n",
       "\n",
       "        excess_mortality_cumulative_absolute  excess_mortality_cumulative  \\\n",
       "123781                                   NaN                          NaN   \n",
       "26511                                    NaN                          NaN   \n",
       "8196                                     NaN                          NaN   \n",
       "\n",
       "        excess_mortality  excess_mortality_cumulative_per_million  \n",
       "123781               NaN                                      NaN  \n",
       "26511                NaN                                      NaN  \n",
       "8196                 NaN                                      NaN  "
      ]
     },
     "execution_count": 48,
     "metadata": {},
     "output_type": "execute_result"
    }
   ],
   "source": [
    "covid_vaccinations.sample(3)"
   ]
  },
  {
   "cell_type": "code",
   "execution_count": 49,
   "id": "4025902c",
   "metadata": {},
   "outputs": [
    {
     "data": {
      "text/plain": [
       "302572"
      ]
     },
     "execution_count": 49,
     "metadata": {},
     "output_type": "execute_result"
    }
   ],
   "source": [
    "# Fill covid_data.db with covid_deaths Data Frame contents:\n",
    "covid_deaths.to_sql('covid_deaths', conn, if_exists='replace', index = False)"
   ]
  },
  {
   "cell_type": "code",
   "execution_count": 50,
   "id": "72bf6ca9",
   "metadata": {},
   "outputs": [
    {
     "data": {
      "text/plain": [
       "302572"
      ]
     },
     "execution_count": 50,
     "metadata": {},
     "output_type": "execute_result"
    }
   ],
   "source": [
    "# Fill covid_data.db with covid_vaccinations Data Frame contents:\n",
    "covid_vaccinations.to_sql('covid_vaccinations', conn, if_exists='replace', index = False)"
   ]
  },
  {
   "cell_type": "code",
   "execution_count": 51,
   "id": "f7d638a1",
   "metadata": {
    "scrolled": true
   },
   "outputs": [
    {
     "data": {
      "text/plain": [
       "[('COVID_trends',), ('covid_deaths',), ('covid_vaccinations',)]"
      ]
     },
     "execution_count": 51,
     "metadata": {},
     "output_type": "execute_result"
    }
   ],
   "source": [
    "# Check to see if the new tables have been added to the the database file\n",
    "cur.execute(\"SELECT name FROM sqlite_master \").fetchall()"
   ]
  },
  {
   "cell_type": "markdown",
   "id": "c536565e",
   "metadata": {},
   "source": [
    "<font size=\"3\"> Looking at highest total cases/population (grouping by location, in descening order, as a percentage.) </font>"
   ]
  },
  {
   "cell_type": "code",
   "execution_count": 52,
   "id": "08467ee6",
   "metadata": {},
   "outputs": [
    {
     "name": "stdout",
     "output_type": "stream",
     "text": [
      "('Cyprus', 896007.0, 655664.0, 73.18) \n",
      "\n",
      "('San Marino', 33690.0, 23873.0, 70.86) \n",
      "\n",
      "('Austria', 8939617.0, 6046956.0, 67.64) \n",
      "\n",
      "('Faeroe Islands', 53117.0, 34658.0, 65.25) \n",
      "\n",
      "('Brunei', 449002.0, 284632.0, 63.39) \n",
      "\n",
      "('Slovenia', 2119843.0, 1342156.0, 63.31) \n",
      "\n",
      "('Gibraltar', 32677.0, 20550.0, 62.89) \n",
      "\n",
      "('Martinique', 367512.0, 229479.0, 62.44) \n",
      "\n",
      "('Andorra', 79843.0, 47939.0, 60.04) \n",
      "\n",
      "('Jersey', 110796.0, 66391.0, 59.92) \n",
      "\n"
     ]
    },
    {
     "data": {
      "text/plain": [
       "[None, None, None, None, None, None, None, None, None, None]"
      ]
     },
     "execution_count": 52,
     "metadata": {},
     "output_type": "execute_result"
    }
   ],
   "source": [
    "statement = \"\"\"SELECT location, population, MAX(total_cases), ROUND(MAX(total_cases/population)*100,2) as tot_pop\n",
    "FROM covid_deaths GROUP BY location ORDER BY tot_pop desc\"\"\"\n",
    "\n",
    "# Fetch only the top 10 results\n",
    "\n",
    "[print(i,'\\n') for i in cur.execute(statement).fetchmany(10)]\n",
    "\n",
    "#location Population  Max tot cases  Cases/Pop_Percentage "
   ]
  },
  {
   "cell_type": "markdown",
   "id": "02c5fa64",
   "metadata": {},
   "source": [
    "<font size=\"3\"> Looking at highest total deaths/population (grouping by location, in descening order, as a percentage.) </font>"
   ]
  },
  {
   "cell_type": "code",
   "execution_count": 53,
   "id": "cdee2973",
   "metadata": {},
   "outputs": [
    {
     "name": "stdout",
     "output_type": "stream",
     "text": [
      "('Peru', 34049588.0, 219866, 0.65) \n",
      "\n",
      "('Bulgaria', 6781955.0, 38282, 0.56) \n",
      "\n",
      "('Bosnia and Herzegovina', 3233530.0, 16328, 0.5) \n",
      "\n",
      "('Hungary', 9967304.0, 48719, 0.49) \n",
      "\n",
      "('North Macedonia', 2093606.0, 9667, 0.46) \n",
      "\n",
      "('Montenegro', 627082.0, 2808, 0.45) \n",
      "\n",
      "('Georgia', 3744385.0, 17032, 0.45) \n",
      "\n",
      "('Croatia', 4030361.0, 18091, 0.45) \n",
      "\n",
      "('Slovenia', 2119843.0, 9230, 0.44) \n",
      "\n",
      "('Czechia', 10493990.0, 42702, 0.41) \n",
      "\n"
     ]
    },
    {
     "data": {
      "text/plain": [
       "[None, None, None, None, None, None, None, None, None, None]"
      ]
     },
     "execution_count": 53,
     "metadata": {},
     "output_type": "execute_result"
    }
   ],
   "source": [
    "statement = \"\"\"SELECT location, population, MAX(cast(total_deaths as int)) as mtd, ROUND(MAX(total_deaths/population)*100,2) as d_p\n",
    "FROM covid_deaths WHERE Continent is not null GROUP BY location ORDER BY d_p desc\"\"\"\n",
    "\n",
    "# Fetch only the top 10 results\n",
    "[print(i,'\\n') for i in cur.execute(statement).fetchmany(10)]\n",
    "\n",
    "#location  Population  Max_tot_deaths Max_tot_deaths/pop      "
   ]
  },
  {
   "cell_type": "markdown",
   "id": "a3b9038e",
   "metadata": {},
   "source": [
    "<font size=\"3\"> Looking at highest total deaths/population, by contintent (grouping by continent, in descening order, as a percentage.)\n",
    " </font>"
   ]
  },
  {
   "cell_type": "code",
   "execution_count": 54,
   "id": "b655a1a5",
   "metadata": {},
   "outputs": [
    {
     "name": "stdout",
     "output_type": "stream",
     "text": [
      "('South America', 34049588.0, 700556, 0.65) \n",
      "\n",
      "('Europe', 6781955.0, 397642, 0.56) \n",
      "\n",
      "('Asia', 3744385.0, 531000, 0.45) \n",
      "\n",
      "('North America', 338289856.0, 1118800, 0.33) \n",
      "\n",
      "('Oceania', 171783.0, 19906, 0.24) \n",
      "\n",
      "('Africa', 12356116.0, 102595, 0.24) \n",
      "\n"
     ]
    },
    {
     "data": {
      "text/plain": [
       "[None, None, None, None, None, None]"
      ]
     },
     "execution_count": 54,
     "metadata": {},
     "output_type": "execute_result"
    }
   ],
   "source": [
    "statement = \"\"\"SELECT continent, population, MAX(cast(total_deaths as int)) as mtd, ROUND(MAX(total_deaths/population)*100,2) as d_p\n",
    "FROM covid_deaths WHERE Continent is not null GROUP BY continent ORDER BY d_p desc\"\"\"\n",
    "\n",
    "[print(i,'\\n') for i in cur.execute(statement).fetchall()]\n",
    "\n",
    "#location     Population  Max_tot_deaths Max_tot_deaths/pop    "
   ]
  },
  {
   "cell_type": "markdown",
   "id": "18ff38c1",
   "metadata": {},
   "source": [
    "<font size=\"3\"> \n",
    "    \n",
    "Join two tables (covid deaths and covid vaccinations)\n",
    "\n",
    "Add a column that keeps a rolling count of the sum of new vaccinations ordered by location and date\n",
    "\n",
    "Add a column that keeps a rolling count of the percentage of the population vaccinated (using a CTE) </font> "
   ]
  },
  {
   "cell_type": "code",
   "execution_count": 55,
   "id": "1413472a",
   "metadata": {},
   "outputs": [
    {
     "name": "stdout",
     "output_type": "stream",
     "text": [
      "('Asia', 'Afghanistan', '2021-05-27', 41128772.0, 2859.0, 2859, 0.007) \n",
      "\n",
      "('Asia', 'Afghanistan', '2021-06-03', 41128772.0, 4015.0, 6874, 0.017) \n",
      "\n",
      "('Asia', 'Afghanistan', '2022-01-27', 41128772.0, 6868.0, 13742, 0.033) \n",
      "\n",
      "('Asia', 'Afghanistan', '2022-04-27', 41128772.0, 383.0, 14125, 0.034) \n",
      "\n",
      "('Asia', 'Afghanistan', '2022-09-12', 41128772.0, 9447.0, 23572, 0.057) \n",
      "\n",
      "('Asia', 'Afghanistan', '2022-11-02', 41128772.0, 36587.0, 60159, 0.146) \n",
      "\n",
      "('Asia', 'Afghanistan', '2022-11-16', 41128772.0, 14800.0, 74959, 0.182) \n",
      "\n",
      "('Europe', 'Albania', '2021-01-13', 2842318.0, 60.0, 60, 0.002) \n",
      "\n",
      "('Europe', 'Albania', '2021-01-14', 2842318.0, 78.0, 138, 0.005) \n",
      "\n",
      "('Europe', 'Albania', '2021-01-15', 2842318.0, 42.0, 180, 0.006) \n",
      "\n",
      "('Europe', 'Albania', '2021-01-16', 2842318.0, 61.0, 241, 0.008) \n",
      "\n",
      "('Europe', 'Albania', '2021-01-17', 2842318.0, 36.0, 277, 0.01) \n",
      "\n",
      "('Europe', 'Albania', '2021-01-18', 2842318.0, 42.0, 319, 0.011) \n",
      "\n",
      "('Europe', 'Albania', '2021-01-19', 2842318.0, 36.0, 355, 0.012) \n",
      "\n",
      "('Europe', 'Albania', '2021-01-20', 2842318.0, 36.0, 391, 0.014) \n",
      "\n"
     ]
    },
    {
     "data": {
      "text/plain": [
       "[None,\n",
       " None,\n",
       " None,\n",
       " None,\n",
       " None,\n",
       " None,\n",
       " None,\n",
       " None,\n",
       " None,\n",
       " None,\n",
       " None,\n",
       " None,\n",
       " None,\n",
       " None,\n",
       " None]"
      ]
     },
     "execution_count": 55,
     "metadata": {},
     "output_type": "execute_result"
    }
   ],
   "source": [
    "statement = \"\"\"WITH pop_vaccinated(continent, location, date, population, new_vaccinations, rolling_sum_of_new_vaccinations)\n",
    "            AS\n",
    "            (\n",
    "            SELECT cd.continent, cd.location, cd.date, cd.population, cv.new_vaccinations,\n",
    "            SUM(cast(cv.new_vaccinations as int)) OVER (PARTITION BY cd.location ORDER BY cd.location, cd.date)\n",
    "            AS rolling_sum_of_new_vaccinations\n",
    "            FROM covid_deaths cd \n",
    "            INNER JOIN covid_vaccinations cv ON cd.location = cv.location AND cd.date = cv.date\n",
    "            WHERE cd.continent IS NOT NULL AND cv.new_vaccinations IS NOT NULL\n",
    "            ORDER BY cd.location, cd.date \n",
    "            )\n",
    "            \n",
    "            SELECT *, ROUND((100*(rolling_sum_of_new_vaccinations/population)),3)\n",
    "            FROM pop_vaccinated\"\"\"\n",
    "\n",
    "# Fetch only the top 15 results\n",
    "[print(i,'\\n') for i in cur.execute(statement).fetchmany(15)]\n",
    "\n",
    "# continent location      date        population  new_vaccinations rolling_vaccinations rolling_vaccinations/population\n"
   ]
  },
  {
   "cell_type": "markdown",
   "id": "dc5842b4",
   "metadata": {},
   "source": [
    "<font size=\"3\"> This is interesting. Let us create a view called \"COVID_trends\" with only the contient name, location, date, population, and the  number of new vaccinations. </font> "
   ]
  },
  {
   "cell_type": "code",
   "execution_count": 87,
   "id": "271314f6",
   "metadata": {},
   "outputs": [
    {
     "data": {
      "text/plain": [
       "<sqlite3.Cursor at 0x122a9d240>"
      ]
     },
     "execution_count": 87,
     "metadata": {},
     "output_type": "execute_result"
    }
   ],
   "source": [
    "cur.execute(\"DROP VIEW IF EXISTS COVID_trends\")\n",
    "statement = \"\"\"CREATE VIEW COVID_trends AS\n",
    "            SELECT cd.continent, cd.location, cd.date, cd.population, total_cases, total_vaccinations, total_deaths,\n",
    "            new_cases_smoothed_per_million, new_vaccinations_smoothed_per_million, new_deaths_smoothed_per_million\n",
    "            FROM covid_deaths cd \n",
    "            INNER JOIN covid_vaccinations cv ON cd.location = cv.location AND cd.date = cv.date\n",
    "            WHERE cd.continent IS NOT NULL AND cv.new_vaccinations IS NOT NULL\n",
    "            ORDER BY cd.location, cd.date \n",
    "            \"\"\"\n",
    "cur.execute(statement)"
   ]
  },
  {
   "cell_type": "markdown",
   "id": "c450f911",
   "metadata": {},
   "source": [
    "<font size=\"3\"> Preview data within the view: </font> "
   ]
  },
  {
   "cell_type": "code",
   "execution_count": 88,
   "id": "476a51bc",
   "metadata": {
    "scrolled": false
   },
   "outputs": [
    {
     "name": "stdout",
     "output_type": "stream",
     "text": [
      "('Asia', 'Afghanistan', '2021-05-27', 41128772.0, 68366.0, 593313.0, 2869.0, 13.168, 158.0, 0.337) \n",
      "\n",
      "('Asia', 'Afghanistan', '2021-06-03', 41128772.0, 75119.0, 630305.0, 3034.0, 23.456, 128.0, 0.573) \n",
      "\n",
      "('Asia', 'Afghanistan', '2022-01-27', 41128772.0, 160708.0, 5081064.0, 7401.0, 5.689, 238.0, 0.052) \n",
      "\n",
      "('Asia', 'Afghanistan', '2022-04-27', 41128772.0, 178769.0, 5986139.0, 7683.0, 0.879, 97.0, 0.01) \n",
      "\n",
      "('Asia', 'Afghanistan', '2022-09-12', 41128772.0, 196012.0, 11734635.0, 7787.0, 6.422, 439.0, 0.017) \n",
      "\n",
      "('Asia', 'Afghanistan', '2022-11-02', 41128772.0, 203167.0, 12140367.0, 7823.0, 2.668, 253.0, 0.01) \n",
      "\n",
      "('Asia', 'Afghanistan', '2022-11-16', 41128772.0, 204719.0, 12216936.0, 7830.0, 2.609, 135.0, 0.003) \n",
      "\n",
      "('Europe', 'Albania', '2021-01-13', 2842318.0, 63971.0, 188.0, 1247.0, 218.534, 22.0, 2.413) \n",
      "\n",
      "('Europe', 'Albania', '2021-01-14', 2842318.0, 64627.0, 266.0, 1252.0, 218.333, 23.0, 2.111) \n",
      "\n",
      "('Europe', 'Albania', '2021-01-15', 2842318.0, 65334.0, 308.0, 1256.0, 217.428, 22.0, 1.96) \n",
      "\n"
     ]
    },
    {
     "data": {
      "text/plain": [
       "[None, None, None, None, None, None, None, None, None, None]"
      ]
     },
     "execution_count": 88,
     "metadata": {},
     "output_type": "execute_result"
    }
   ],
   "source": [
    "[print(i,'\\n') for i in cur.execute(\"select * from COVID_trends\").fetchmany(10)]\n",
    "\n",
    "# continent location    date    population Tot Cases, Tot Vax, Tot Deaths, 'New_cases/mil New_vax/mil new_deaths/mil\n"
   ]
  },
  {
   "cell_type": "markdown",
   "id": "19cd71c0",
   "metadata": {},
   "source": [
    "<font size=\"3\"> Running these querries has provided us with some insight, however it would be much easier to see some of the trends found here with the help of a visualization tool like **Tableau**. I will load the contents of the VIEW into a pandas dataframe and upload it into a CSV file </font>"
   ]
  },
  {
   "cell_type": "code",
   "execution_count": 89,
   "id": "bdadc794",
   "metadata": {},
   "outputs": [],
   "source": [
    "COVID_trends = pd.DataFrame(cur.execute(\"select * from COVID_trends\").fetchall(), columns = [\"Continent\", \"Country\", \"Date\",\n",
    "\"Population\", 'Total Cases','Total Vaccinations','Total Deaths',\"New_Cases/Million\",\"New_Vaccines/Million\", \"New_Deaths/Million\"])\n"
   ]
  },
  {
   "cell_type": "code",
   "execution_count": 90,
   "id": "161660a5",
   "metadata": {},
   "outputs": [
    {
     "data": {
      "text/plain": [
       "array(['Afghanistan', 'Azerbaijan', 'Bahrain', 'Bangladesh', 'Bhutan',\n",
       "       'Brunei', 'Cambodia', 'China', 'Georgia', 'Hong Kong', 'India',\n",
       "       'Indonesia', 'Iran', 'Iraq', 'Israel', 'Japan', 'Jordan',\n",
       "       'Kazakhstan', 'Kuwait', 'Kyrgyzstan', 'Laos', 'Lebanon', 'Macao',\n",
       "       'Malaysia', 'Maldives', 'Mongolia', 'Myanmar', 'Nepal',\n",
       "       'Northern Cyprus', 'Oman', 'Pakistan', 'Palestine', 'Philippines',\n",
       "       'Qatar', 'Saudi Arabia', 'Singapore', 'South Korea', 'Sri Lanka',\n",
       "       'Syria', 'Taiwan', 'Tajikistan', 'Thailand', 'Timor', 'Turkey',\n",
       "       'United Arab Emirates', 'Uzbekistan', 'Vietnam'], dtype=object)"
      ]
     },
     "execution_count": 90,
     "metadata": {},
     "output_type": "execute_result"
    }
   ],
   "source": [
    "COVID_trends[COVID_trends.Continent == 'Asia'].Country.unique()"
   ]
  },
  {
   "cell_type": "code",
   "execution_count": 92,
   "id": "4d57cc88",
   "metadata": {},
   "outputs": [
    {
     "data": {
      "text/plain": [
       "['Australia', 'Fiji', 'French Polynesia', 'Nauru', 'New Zealand']"
      ]
     },
     "execution_count": 92,
     "metadata": {},
     "output_type": "execute_result"
    }
   ],
   "source": [
    "# For future reference, the following countries are considered part of \"Oceania\":\n",
    "COVID_trends['Country'][COVID_trends.Continent == 'Oceania'].unique().tolist()"
   ]
  },
  {
   "cell_type": "code",
   "execution_count": 93,
   "id": "5d523a7d",
   "metadata": {
    "scrolled": true
   },
   "outputs": [
    {
     "data": {
      "text/html": [
       "<div>\n",
       "<style scoped>\n",
       "    .dataframe tbody tr th:only-of-type {\n",
       "        vertical-align: middle;\n",
       "    }\n",
       "\n",
       "    .dataframe tbody tr th {\n",
       "        vertical-align: top;\n",
       "    }\n",
       "\n",
       "    .dataframe thead th {\n",
       "        text-align: right;\n",
       "    }\n",
       "</style>\n",
       "<table border=\"1\" class=\"dataframe\">\n",
       "  <thead>\n",
       "    <tr style=\"text-align: right;\">\n",
       "      <th></th>\n",
       "      <th>Continent</th>\n",
       "      <th>Country</th>\n",
       "      <th>Date</th>\n",
       "      <th>Population</th>\n",
       "      <th>Total Cases</th>\n",
       "      <th>Total Vaccinations</th>\n",
       "      <th>Total Deaths</th>\n",
       "      <th>New_Cases/Million</th>\n",
       "      <th>New_Vaccines/Million</th>\n",
       "      <th>New_Deaths/Million</th>\n",
       "    </tr>\n",
       "  </thead>\n",
       "  <tbody>\n",
       "    <tr>\n",
       "      <th>0</th>\n",
       "      <td>Asia</td>\n",
       "      <td>Afghanistan</td>\n",
       "      <td>2021-05-27</td>\n",
       "      <td>41128772.0</td>\n",
       "      <td>68366.0</td>\n",
       "      <td>593313.0</td>\n",
       "      <td>2869.0</td>\n",
       "      <td>13.168</td>\n",
       "      <td>158.0</td>\n",
       "      <td>0.337</td>\n",
       "    </tr>\n",
       "    <tr>\n",
       "      <th>1</th>\n",
       "      <td>Asia</td>\n",
       "      <td>Afghanistan</td>\n",
       "      <td>2021-06-03</td>\n",
       "      <td>41128772.0</td>\n",
       "      <td>75119.0</td>\n",
       "      <td>630305.0</td>\n",
       "      <td>3034.0</td>\n",
       "      <td>23.456</td>\n",
       "      <td>128.0</td>\n",
       "      <td>0.573</td>\n",
       "    </tr>\n",
       "    <tr>\n",
       "      <th>2</th>\n",
       "      <td>Asia</td>\n",
       "      <td>Afghanistan</td>\n",
       "      <td>2022-01-27</td>\n",
       "      <td>41128772.0</td>\n",
       "      <td>160708.0</td>\n",
       "      <td>5081064.0</td>\n",
       "      <td>7401.0</td>\n",
       "      <td>5.689</td>\n",
       "      <td>238.0</td>\n",
       "      <td>0.052</td>\n",
       "    </tr>\n",
       "    <tr>\n",
       "      <th>3</th>\n",
       "      <td>Asia</td>\n",
       "      <td>Afghanistan</td>\n",
       "      <td>2022-04-27</td>\n",
       "      <td>41128772.0</td>\n",
       "      <td>178769.0</td>\n",
       "      <td>5986139.0</td>\n",
       "      <td>7683.0</td>\n",
       "      <td>0.879</td>\n",
       "      <td>97.0</td>\n",
       "      <td>0.010</td>\n",
       "    </tr>\n",
       "    <tr>\n",
       "      <th>4</th>\n",
       "      <td>Asia</td>\n",
       "      <td>Afghanistan</td>\n",
       "      <td>2022-09-12</td>\n",
       "      <td>41128772.0</td>\n",
       "      <td>196012.0</td>\n",
       "      <td>11734635.0</td>\n",
       "      <td>7787.0</td>\n",
       "      <td>6.422</td>\n",
       "      <td>439.0</td>\n",
       "      <td>0.017</td>\n",
       "    </tr>\n",
       "  </tbody>\n",
       "</table>\n",
       "</div>"
      ],
      "text/plain": [
       "  Continent      Country        Date  Population  Total Cases  \\\n",
       "0      Asia  Afghanistan  2021-05-27  41128772.0      68366.0   \n",
       "1      Asia  Afghanistan  2021-06-03  41128772.0      75119.0   \n",
       "2      Asia  Afghanistan  2022-01-27  41128772.0     160708.0   \n",
       "3      Asia  Afghanistan  2022-04-27  41128772.0     178769.0   \n",
       "4      Asia  Afghanistan  2022-09-12  41128772.0     196012.0   \n",
       "\n",
       "   Total Vaccinations  Total Deaths  New_Cases/Million  New_Vaccines/Million  \\\n",
       "0            593313.0        2869.0             13.168                 158.0   \n",
       "1            630305.0        3034.0             23.456                 128.0   \n",
       "2           5081064.0        7401.0              5.689                 238.0   \n",
       "3           5986139.0        7683.0              0.879                  97.0   \n",
       "4          11734635.0        7787.0              6.422                 439.0   \n",
       "\n",
       "   New_Deaths/Million  \n",
       "0               0.337  \n",
       "1               0.573  \n",
       "2               0.052  \n",
       "3               0.010  \n",
       "4               0.017  "
      ]
     },
     "execution_count": 93,
     "metadata": {},
     "output_type": "execute_result"
    }
   ],
   "source": [
    "COVID_trends.head()"
   ]
  },
  {
   "cell_type": "code",
   "execution_count": 94,
   "id": "6da131f1",
   "metadata": {},
   "outputs": [],
   "source": [
    "COVID_trends.to_csv('COVID_trends.csv')"
   ]
  }
 ],
 "metadata": {
  "kernelspec": {
   "display_name": "Python 3 (ipykernel)",
   "language": "python",
   "name": "python3"
  },
  "language_info": {
   "codemirror_mode": {
    "name": "ipython",
    "version": 3
   },
   "file_extension": ".py",
   "mimetype": "text/x-python",
   "name": "python",
   "nbconvert_exporter": "python",
   "pygments_lexer": "ipython3",
   "version": "3.10.9"
  }
 },
 "nbformat": 4,
 "nbformat_minor": 5
}
